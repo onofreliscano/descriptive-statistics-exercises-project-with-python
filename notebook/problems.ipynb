{
 "cells": [
  {
   "cell_type": "markdown",
   "id": "6805e3f1",
   "metadata": {},
   "source": [
    "# Descriptive Statistics Problems\n",
    "\n",
    "## Exercise 1 – How long are movie titles?\n",
    "\n",
    "In this exercise, you will apply descriptive statistics techniques to a real dataset: a database of 1000 popular movies from the IMDb website.\n",
    "\n",
    "From the title of each movie, you will:\n",
    "- Calculate the title length (in characters).\n",
    "- Obtain key statistical metrics: mean, median, mode, range, variance, standard deviation, skewness, and kurtosis.\n",
    "- Identify the longest and shortest titles.\n",
    "- Visualize the distribution of these lengths with a histogram and a density curve.\n"
   ]
  },
  {
   "cell_type": "code",
   "execution_count": 62,
   "id": "ca3d2c0a",
   "metadata": {},
   "outputs": [
    {
     "name": "stdout",
     "output_type": "stream",
     "text": [
      "\n",
      "Old df:\n",
      "\n",
      "+----+---------------+-----------------------------------------------+------------------+-----------+------------+-----------------------------------------------------------+\n",
      "|    |   star_rating | title                                         | content_rating   | genre     |   duration | actors_list                                               |\n",
      "|----+---------------+-----------------------------------------------+------------------+-----------+------------+-----------------------------------------------------------|\n",
      "|  0 |           9.3 | The Shawshank Redemption                      | R                | Crime     |        142 | [u'Tim Robbins', u'Morgan Freeman', u'Bob Gunton']        |\n",
      "|  1 |           9.2 | The Godfather                                 | R                | Crime     |        175 | [u'Marlon Brando', u'Al Pacino', u'James Caan']           |\n",
      "|  2 |           9.1 | The Godfather: Part II                        | R                | Crime     |        200 | [u'Al Pacino', u'Robert De Niro', u'Robert Duvall']       |\n",
      "|  3 |           9   | The Dark Knight                               | PG-13            | Action    |        152 | [u'Christian Bale', u'Heath Ledger', u'Aaron Eckhart']    |\n",
      "|  4 |           8.9 | Pulp Fiction                                  | R                | Crime     |        154 | [u'John Travolta', u'Uma Thurman', u'Samuel L. Jackson']  |\n",
      "|  5 |           8.9 | 12 Angry Men                                  | NOT RATED        | Drama     |         96 | [u'Henry Fonda', u'Lee J. Cobb', u'Martin Balsam']        |\n",
      "|  6 |           8.9 | The Good, the Bad and the Ugly                | NOT RATED        | Western   |        161 | [u'Clint Eastwood', u'Eli Wallach', u'Lee Van Cleef']     |\n",
      "|  7 |           8.9 | The Lord of the Rings: The Return of the King | PG-13            | Adventure |        201 | [u'Elijah Wood', u'Viggo Mortensen', u'Ian McKellen']     |\n",
      "|  8 |           8.9 | Schindler's List                              | R                | Biography |        195 | [u'Liam Neeson', u'Ralph Fiennes', u'Ben Kingsley']       |\n",
      "|  9 |           8.9 | Fight Club                                    | R                | Drama     |        139 | [u'Brad Pitt', u'Edward Norton', u'Helena Bonham Carter'] |\n",
      "+----+---------------+-----------------------------------------------+------------------+-----------+------------+-----------------------------------------------------------+\n"
     ]
    }
   ],
   "source": [
    "# Import libraries\n",
    "import pandas as pd\n",
    "import numpy as np\n",
    "import matplotlib.pyplot as plt\n",
    "from scipy.stats import skew, kurtosis, mode\n",
    "from tabulate import tabulate\n",
    "import seaborn as sns\n",
    "\n",
    "# Agregamos un poco de formatting\n",
    "pd.set_option('display.max_rows', 20)      # Display all rows\n",
    "pd.set_option('display.max_columns', None) # Display all columns\n",
    "pd.set_option('display.width', 500)        # Adjust display width\n",
    "\n",
    "\n",
    "# Load IMDb dataset\n",
    "url = \"../assets/imdb_1000.csv\"\n",
    "df = pd.read_csv(url)\n",
    "print (f\"\\nOld df:\\n\")\n",
    "# Agregamos un poco mas de formatting con tabulate\n",
    "print(tabulate(df.head(10), headers=\"keys\", tablefmt=\"psql\"))"
   ]
  },
  {
   "cell_type": "code",
   "execution_count": 63,
   "id": "61d39304",
   "metadata": {},
   "outputs": [
    {
     "name": "stdout",
     "output_type": "stream",
     "text": [
      "\n",
      "Length of each movie: \n",
      " 0      24\n",
      "1      13\n",
      "2      22\n",
      "3      15\n",
      "4      12\n",
      "       ..\n",
      "974     7\n",
      "975    27\n",
      "976    47\n",
      "977    11\n",
      "978    11\n",
      "Name: title, Length: 979, dtype: int64\n",
      "\n",
      "New df:\n",
      "+----+---------------+-----------------------------------------------+----------------+------------------+-----------+------------+-----------------------------------------------------------+\n",
      "|    |   star_rating | title                                         |   title_length | content_rating   | genre     |   duration | actors_list                                               |\n",
      "|----+---------------+-----------------------------------------------+----------------+------------------+-----------+------------+-----------------------------------------------------------|\n",
      "|  0 |           9.3 | The Shawshank Redemption                      |             24 | R                | Crime     |        142 | [u'Tim Robbins', u'Morgan Freeman', u'Bob Gunton']        |\n",
      "|  1 |           9.2 | The Godfather                                 |             13 | R                | Crime     |        175 | [u'Marlon Brando', u'Al Pacino', u'James Caan']           |\n",
      "|  2 |           9.1 | The Godfather: Part II                        |             22 | R                | Crime     |        200 | [u'Al Pacino', u'Robert De Niro', u'Robert Duvall']       |\n",
      "|  3 |           9   | The Dark Knight                               |             15 | PG-13            | Action    |        152 | [u'Christian Bale', u'Heath Ledger', u'Aaron Eckhart']    |\n",
      "|  4 |           8.9 | Pulp Fiction                                  |             12 | R                | Crime     |        154 | [u'John Travolta', u'Uma Thurman', u'Samuel L. Jackson']  |\n",
      "|  5 |           8.9 | 12 Angry Men                                  |             12 | NOT RATED        | Drama     |         96 | [u'Henry Fonda', u'Lee J. Cobb', u'Martin Balsam']        |\n",
      "|  6 |           8.9 | The Good, the Bad and the Ugly                |             30 | NOT RATED        | Western   |        161 | [u'Clint Eastwood', u'Eli Wallach', u'Lee Van Cleef']     |\n",
      "|  7 |           8.9 | The Lord of the Rings: The Return of the King |             45 | PG-13            | Adventure |        201 | [u'Elijah Wood', u'Viggo Mortensen', u'Ian McKellen']     |\n",
      "|  8 |           8.9 | Schindler's List                              |             16 | R                | Biography |        195 | [u'Liam Neeson', u'Ralph Fiennes', u'Ben Kingsley']       |\n",
      "|  9 |           8.9 | Fight Club                                    |             10 | R                | Drama     |        139 | [u'Brad Pitt', u'Edward Norton', u'Helena Bonham Carter'] |\n",
      "+----+---------------+-----------------------------------------------+----------------+------------------+-----------+------------+-----------------------------------------------------------+\n"
     ]
    }
   ],
   "source": [
    "# 1.1 Create a new column called 'title_length' with the length (number of characters) of each title\n",
    "\n",
    "# 1.1.1 Para contar cuantos caracteres tiene cada titulo de peli primero hacemos esto.\n",
    "# Tambien imprimimos los valores del conteo de caracteres\n",
    "\n",
    "titleMovieLength = df[\"title\"].str.len()\n",
    "print (f\"\\nLength of each movie: \\n {titleMovieLength}\")\n",
    "\n",
    "# 1.1.2. Adicionamos la columna justo despues de title con los valores de titleMovieLenght\n",
    "#      Imprimimos el nuevo df\n",
    "\n",
    "df.insert(loc=df.columns.get_loc(\"title\")+1, column=\"title_length\", value = titleMovieLength)\n",
    "print (f\"\\nNew df:\")\n",
    "print(tabulate(df.head(10), headers=\"keys\", tablefmt=\"psql\"))"
   ]
  },
  {
   "cell_type": "code",
   "execution_count": 64,
   "id": "cae9c2e7",
   "metadata": {},
   "outputs": [
    {
     "name": "stdout",
     "output_type": "stream",
     "text": [
      "La media de mi title_length es: 15.48\n",
      "La mediana de mi title_length es: 14.0\n",
      "La moda de mi title_length: 12\n"
     ]
    }
   ],
   "source": [
    "# 1.2. Calculate mean, median, and mode of the 'title_length' column\n",
    "\n",
    "# Aplicamos las funciones\n",
    "\n",
    "mean_length = df[\"title_length\"].mean()\n",
    "median_length = df[\"title_length\"].median()\n",
    "mode_length = df[\"title_length\"].mode()[0]  # el primer valor de la moda para que se vea mas agradable y no muestre el 0\n",
    "\n",
    "\n",
    "print(\"La media de mi title_length es:\", round(mean_length, 2)) # Redondeamos el valor pues da muchos decimales\n",
    "print(\"La mediana de mi title_length es:\", median_length)\n",
    "print(\"La moda de mi title_length:\", mode_length)"
   ]
  },
  {
   "cell_type": "code",
   "execution_count": 65,
   "id": "69664a9b",
   "metadata": {},
   "outputs": [
    {
     "name": "stdout",
     "output_type": "stream",
     "text": [
      "El rango es de mi columna title_length: 67\n",
      "La varianza es: 72.11\n",
      "La desviación estándar es: 8.49\n"
     ]
    }
   ],
   "source": [
    "# 1.3. Calculate the range, variance, and standard deviation of 'title_length'\n",
    "\n",
    "range_length = df[\"title_length\"].max() - df[\"title_length\"].min()  # Rango (valores min y max)\n",
    "variance_length = df[\"title_length\"].var()                          # Varianza\n",
    "std_length = df[\"title_length\"].std(ddof=0)                         # Desviacion Standard\n",
    "\n",
    "print(\"El rango es de mi columna title_length:\", range_length)\n",
    "print(\"La varianza es:\", round(variance_length, 2))\n",
    "print(\"La desviación estándar es:\", round(std_length, 2))"
   ]
  },
  {
   "cell_type": "code",
   "execution_count": 66,
   "id": "6b9a931c",
   "metadata": {},
   "outputs": [
    {
     "name": "stdout",
     "output_type": "stream",
     "text": [
      "Mi Skewness: 1.52\n",
      "Explicacion Skewness: positivo alto. Es asimetrica a la derecha\n",
      "\n",
      "Mi Kurtosis: 3.79\n",
      "Explicacion Kurtosis: distribución tiene colas relativamente “pesadas” y un pico más alto\n"
     ]
    }
   ],
   "source": [
    "# 1.4. Calculate skewness and kurtosis of the 'title_length' column\n",
    "\n",
    "skewness_length = skew(df[\"title_length\"])\n",
    "kurtosis_length = kurtosis(df[\"title_length\"])\n",
    "\n",
    "print(\"Mi Skewness:\", round(skewness_length, 2))\n",
    "print (\"Explicacion Skewness: positivo alto. Es asimetrica a la derecha\")\n",
    "\n",
    "print(\"\\nMi Kurtosis:\", round(kurtosis_length, 2))\n",
    "print (\"Explicacion Kurtosis: distribución tiene colas relativamente “pesadas” y un pico más alto\")"
   ]
  },
  {
   "cell_type": "code",
   "execution_count": 67,
   "id": "c0d09e68",
   "metadata": {},
   "outputs": [
    {
     "name": "stdout",
     "output_type": "stream",
     "text": [
      "El título más corto es: M\n",
      "El título más largo es: Dr. Strangelove or: How I Learned to Stop Worrying and Love the Bomb\n",
      "Nota de Onofre: Me encanta Fritz Lang. Su fanático de Metropolis\n"
     ]
    }
   ],
   "source": [
    "# 1.5. Print the shortest and longest title based on their length\n",
    "\n",
    "shortest_title = df.loc[df[\"title_length\"].idxmin(), \"title\"]\n",
    "longest_title = df.loc[df[\"title_length\"].idxmax(), \"title\"]\n",
    "\n",
    "print(\"El título más corto es:\", shortest_title)\n",
    "print(\"El título más largo es:\", longest_title)\n",
    "\n",
    "print(\"Nota de Onofre: Me encanta Fritz Lang. Su fanático de Metropolis\")"
   ]
  },
  {
   "cell_type": "code",
   "execution_count": 68,
   "id": "e86a1ced",
   "metadata": {},
   "outputs": [
    {
     "data": {
      "image/png": "[encoded data removed]",
      "text/plain": [
       "<Figure size 1000x600 with 1 Axes>"
      ]
     },
     "metadata": {},
     "output_type": "display_data"
    }
   ],
   "source": [
    "# 1.6. Plot your results\n",
    "\n",
    "# Hacemos Histograma + curva de densidad\n",
    "plt.figure(figsize=(10,6))\n",
    "sns.histplot(df[\"title_length\"], bins=20, kde=True, color=\"skyblue\")\n",
    "\n",
    "plt.title(\"Distribución de la longitud de títulos (IMDb Top 1000)\", fontsize=14)\n",
    "plt.xlabel(\"Número de caracteres en el título\")\n",
    "plt.ylabel(\"Frecuencia\")\n",
    "plt.show()"
   ]
  },
  {
   "cell_type": "markdown",
   "id": "eaf3ceb7",
   "metadata": {},
   "source": [
    "---\n",
    "\n",
    "## Exercise 2 – Manual Calculation of Standard Deviation\n",
    "\n",
    "In this exercise, you will manually calculate the standard deviation by selecting five actual titles from the movie dataset you loaded earlier.\n"
   ]
  },
  {
   "cell_type": "code",
   "execution_count": 77,
   "id": "3005c0f9",
   "metadata": {},
   "outputs": [
    {
     "name": "stdout",
     "output_type": "stream",
     "text": [
      "+-----+-------------------------------------------+----------------+\n",
      "|     | title                                     |   title_length |\n",
      "|-----+-------------------------------------------+----------------|\n",
      "| 671 | Grindhouse                                |             10 |\n",
      "| 726 | Sherlock Holmes                           |             15 |\n",
      "| 932 | Harry Potter and the Order of the Phoenix |             41 |\n",
      "|   6 | The Good, the Bad and the Ugly            |             30 |\n",
      "| 954 | X-Men                                     |              5 |\n",
      "+-----+-------------------------------------------+----------------+\n"
     ]
    }
   ],
   "source": [
    "# 2.1. Create a list with 5 actual values from df['title_length'], for example: [10, 13, 14, 18, 22]\n",
    "\n",
    "# Usamos los 5 valores reales del (df):\n",
    "# Extraemos titulo y el length\n",
    "sample = df[[\"title\",\"title_length\"]].sample(5, random_state=1)\n",
    "\n",
    "# Mostrar los 5 títulos seleccionados en formato tabla\n",
    "print(tabulate(sample, headers=\"keys\", tablefmt=\"psql\"))\n"
   ]
  },
  {
   "cell_type": "code",
   "execution_count": 79,
   "id": "d96b771f",
   "metadata": {},
   "outputs": [
    {
     "name": "stdout",
     "output_type": "stream",
     "text": [
      "La media de los 5 títulos es: 20.2\n"
     ]
    }
   ],
   "source": [
    "# 2.2. Calculate the mean of the 5 values\n",
    "\n",
    "mean_sample = sample[\"title_length\"].mean()\n",
    "print(\"La media de los 5 títulos es:\", round(mean_sample, 2))\n"
   ]
  },
  {
   "cell_type": "code",
   "execution_count": 86,
   "id": "346d0dc5",
   "metadata": {},
   "outputs": [
    {
     "name": "stdout",
     "output_type": "stream",
     "text": [
      "Diferencias al cuadrado:\n",
      " [104.04, 27.04, 432.64, 96.04, 231.04]\n",
      "+-----+-------------------------------------------+----------------+----------------+\n",
      "|     | title                                     |   title_length |   squared_diff |\n",
      "|-----+-------------------------------------------+----------------+----------------|\n",
      "| 671 | Grindhouse                                |             10 |         104.04 |\n",
      "| 726 | Sherlock Holmes                           |             15 |          27.04 |\n",
      "| 932 | Harry Potter and the Order of the Phoenix |             41 |         432.64 |\n",
      "|   6 | The Good, the Bad and the Ugly            |             30 |          96.04 |\n",
      "| 954 | X-Men                                     |              5 |         231.04 |\n",
      "+-----+-------------------------------------------+----------------+----------------+\n"
     ]
    }
   ],
   "source": [
    "# 2.3. Calculate the squared differences with respect to the mean\n",
    "\n",
    "squared_diffs = (sample[\"title_length\"] - mean_sample) ** 2\n",
    "print(\"Diferencias al cuadrado:\\n\", [round(x, 2) for x in squared_diffs.tolist()]) # redondeamos cada valor de la lista con for x\n",
    "\n",
    "# Visualicemos!\n",
    "result = sample.copy()\n",
    "result[\"squared_diff\"] = squared_diffs\n",
    "\n",
    "print(tabulate(result, headers=\"keys\", tablefmt=\"psql\"))\n"
   ]
  },
  {
   "cell_type": "code",
   "execution_count": 87,
   "id": "f56517ff",
   "metadata": {},
   "outputs": [
    {
     "name": "stdout",
     "output_type": "stream",
     "text": [
      "Varianza manual: 178.16\n",
      "Desviación estándar manual: 13.35\n"
     ]
    }
   ],
   "source": [
    "# 2.4. Calculate the variance (average of the squared differences) and its square root to obtain the standard deviation\n",
    "\n",
    "variance_manual = sum(squared_diffs) / len(squared_diffs)\n",
    "std_manual = variance_manual ** 0.5\n",
    "\n",
    "print(\"Varianza manual:\", round(variance_manual, 2))\n",
    "print(\"Desviación estándar manual:\", round(std_manual, 2))"
   ]
  },
  {
   "cell_type": "code",
   "execution_count": null,
   "id": "c1f9ea09-143f-4013-904b-ccd2c51e55a6",
   "metadata": {},
   "outputs": [],
   "source": []
  }
 ],
 "metadata": {
  "kernelspec": {
   "display_name": "Python 3 (ipykernel)",
   "language": "python",
   "name": "python3"
  },
  "language_info": {
   "codemirror_mode": {
    "name": "ipython",
    "version": 3
   },
   "file_extension": ".py",
   "mimetype": "text/x-python",
   "name": "python",
   "nbconvert_exporter": "python",
   "pygments_lexer": "ipython3",
   "version": "3.11.13"
  }
 },
 "nbformat": 4,
 "nbformat_minor": 5
}
